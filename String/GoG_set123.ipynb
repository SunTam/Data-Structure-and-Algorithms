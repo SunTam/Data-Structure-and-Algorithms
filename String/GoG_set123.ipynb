{
 "cells": [
  {
   "cell_type": "markdown",
   "id": "989d31d6",
   "metadata": {},
   "source": [
    " ## Python String Methods <br>"
   ]
  },
  {
   "cell_type": "code",
   "execution_count": null,
   "id": "73c35078",
   "metadata": {},
   "outputs": [],
   "source": [
    "# Set 1 (find, rfind, startwith, endwith, islower, isupper, lower, upper, swapcase & title)"
   ]
  },
  {
   "cell_type": "code",
   "execution_count": 16,
   "id": "df8e7c1e",
   "metadata": {},
   "outputs": [
    {
     "name": "stdout",
     "output_type": "stream",
     "text": [
      "16\n",
      "16\n",
      "True\n",
      "False\n",
      "True\n",
      "False\n",
      "SUN\n",
      "sun\n",
      "sunil TAMANG\n"
     ]
    }
   ],
   "source": [
    "str = 'sunil lo tamang sunil lo'\n",
    "str1='sun'\n",
    "str2 = 'SUN'\n",
    "str3 = 'SUNIL tamang'\n",
    "\n",
    "print(str.find(str1,4,))   #.... find\n",
    "print(str.rfind(str1))     #... rfind\n",
    "print(str.startswith(str1))#...startswith\n",
    "print(str.endswith(str1))  #....endswith\n",
    "print(str.islower())       #...islower()\n",
    "print(str.isupper())       #...isupper()\n",
    "print(str1.upper())        #...uper()\n",
    "print(str2.lower())        #.. lower()\n",
    "print(str3.swapcase())     #..swapcase()"
   ]
  },
  {
   "cell_type": "code",
   "execution_count": 17,
   "id": "79d0d3b4",
   "metadata": {},
   "outputs": [],
   "source": [
    "#Set 2 (len, count, center, ljust, rjust, isalpha, isalnum, isspace & join)"
   ]
  },
  {
   "cell_type": "code",
   "execution_count": 43,
   "id": "b26d2013",
   "metadata": {},
   "outputs": [
    {
     "name": "stdout",
     "output_type": "stream",
     "text": [
      "20\n",
      "5\n",
      "----------sun sun sun sun sun ----------\n",
      "sun sun sun sun sun -----\n",
      "-----sun sun sun sun sun \n",
      "False\n",
      "True\n",
      "True\n",
      "False\n",
      "geeks_for_geeks\n"
     ]
    }
   ],
   "source": [
    "str = 'sun sun sun sun sun '\n",
    "str1 = 'sun'\n",
    "str2 = 123\n",
    "\n",
    "print(len(str))                   # len()\n",
    "print(str.count('sun',0,21))      # count()\n",
    "print(str.center(40,'-'))         # center()\n",
    "print(str.ljust(25,'-'))          # ljust()\n",
    "print(str.rjust(25,'-'))          # rjust()\n",
    "print(str.isalpha())              # isalpha()\n",
    "print(str1.isalpha())             \n",
    "print(str1.isalnum())             # isalnum()\n",
    "print(str.isspace())              # isspace()\n",
    " \n",
    "\n",
    "#join\n",
    "str = \"_\"\n",
    "str1 = ( \"geeks\", \"for\", \"geeks\" )\n",
    "print ( str.join(str1))"
   ]
  },
  {
   "cell_type": "code",
   "execution_count": 44,
   "id": "03e05b0e",
   "metadata": {},
   "outputs": [],
   "source": [
    "#Set 3 (strip, lstrip, rstrip, min, max, maketrans, translate, replace & expandtabs())"
   ]
  },
  {
   "cell_type": "code",
   "execution_count": 55,
   "id": "dfe975d0",
   "metadata": {},
   "outputs": [
    {
     "name": "stdout",
     "output_type": "stream",
     "text": [
      "geeksforgeeks\n",
      "geeksforgeeks---\n",
      "---geeksforgeeks\n",
      "n\n",
      "s\n"
     ]
    },
    {
     "data": {
      "text/plain": [
       "'geeksforgeeks is for geeks'"
      ]
     },
     "execution_count": 55,
     "metadata": {},
     "output_type": "execute_result"
    }
   ],
   "source": [
    "str = \"---geeksforgeeks---\"\n",
    "str1 = 'sun'\n",
    "print ( str.strip('-'))     # strip\n",
    "print ( str.lstrip('-'))    # lstrip\n",
    "print ( str.rstrip('-'))    # rstrip\n",
    "print(min(str1))            # min()\n",
    "print(max(str))             # max()\n",
    "\n",
    "#replace\n",
    "str = \"nerdsfornerds is for nerds\" \n",
    "str1 = \"nerds\"\n",
    "str2 = \"geeks\"\n",
    "\n",
    "str.replace(str1,str2)"
   ]
  },
  {
   "cell_type": "code",
   "execution_count": null,
   "id": "7430d8e2",
   "metadata": {},
   "outputs": [],
   "source": []
  }
 ],
 "metadata": {
  "kernelspec": {
   "display_name": "Python 3 (ipykernel)",
   "language": "python",
   "name": "python3"
  },
  "language_info": {
   "codemirror_mode": {
    "name": "ipython",
    "version": 3
   },
   "file_extension": ".py",
   "mimetype": "text/x-python",
   "name": "python",
   "nbconvert_exporter": "python",
   "pygments_lexer": "ipython3",
   "version": "3.9.12"
  }
 },
 "nbformat": 4,
 "nbformat_minor": 5
}
